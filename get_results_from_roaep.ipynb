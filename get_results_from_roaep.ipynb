{
 "cells": [
  {
   "cell_type": "code",
   "execution_count": 61,
   "metadata": {},
   "outputs": [],
   "source": [
    "import requests\n",
    "import pandas as pd\n",
    "import numpy as np"
   ]
  },
  {
   "cell_type": "code",
   "execution_count": 62,
   "metadata": {},
   "outputs": [],
   "source": [
    "def get_counties():\n",
    "    url_county = 'https://prezenta.roaep.ro/locale27092020/data/json/sicpv/lists/counties.json'\n",
    "    r = requests.get(url=url_county)\n",
    "    return r.json()"
   ]
  },
  {
   "cell_type": "code",
   "execution_count": 63,
   "metadata": {},
   "outputs": [],
   "source": [
    "def get_uat_of_county(county_key):\n",
    "    url_uat = 'https://prezenta.roaep.ro/locale27092020/data/json/sicpv/lists/uats_' + county_key + '.json'\n",
    "    r = requests.get(url=url_uat)\n",
    "    return r.json()"
   ]
  },
  {
   "cell_type": "code",
   "execution_count": 64,
   "metadata": {},
   "outputs": [],
   "source": [
    "def get_commune_of_county(county_key):\n",
    "    url_uat = 'https://prezenta.roaep.ro/locale27092020/data/json/sicpv/lists/localities_' + county_key + '.json'\n",
    "    r = requests.get(url=url_uat)\n",
    "    return r.json()"
   ]
  },
  {
   "cell_type": "code",
   "execution_count": 65,
   "metadata": {},
   "outputs": [],
   "source": [
    "def get_precinct_of_county(county_key):\n",
    "    url_uat = 'https://prezenta.roaep.ro/locale27092020/data/json/sicpv/lists/precincts_' + county_key + '.json'\n",
    "    r = requests.get(url=url_uat)\n",
    "    return r.json()"
   ]
  },
  {
   "cell_type": "code",
   "execution_count": 101,
   "metadata": {},
   "outputs": [],
   "source": [
    "def get_results_of_county(county_key):\n",
    "    url_uat = 'https://prezenta.roaep.ro/locale27092020/data/json/sicpv/pv/pv_' + county_key + '_part.json'\n",
    "    r = requests.get(url=url_uat)\n",
    "    return r.json()"
   ]
  },
  {
   "cell_type": "code",
   "execution_count": 112,
   "metadata": {},
   "outputs": [],
   "source": [
    "def get_row_for_category(pres_of_uat, results, data_key, new_row):\n",
    "    uat_calculated_results = {}\n",
    "    uat_sum_all_parties = 0\n",
    "    for precinct in pres_of_uat:\n",
    "        pre_id = str(precinct['id']);\n",
    "        \n",
    "        if pre_id not in results:\n",
    "            continue\n",
    "        \n",
    "        lt = results[pre_id]['votes']\n",
    "        for party in lt:\n",
    "            party_name = party[data_key]\n",
    "            party_votes = party['votes']\n",
    "            uat_sum_all_parties += int(party_votes)\n",
    "            if party_name in uat_calculated_results:\n",
    "                uat_calculated_results[party_name] += int(party_votes)\n",
    "            else:\n",
    "                uat_calculated_results[party_name] = int(party_votes)\n",
    "\n",
    "    # add columns if not exists\n",
    "    for key in uat_calculated_results.keys():\n",
    "        if key not in df:\n",
    "            df[key] = np.nan\n",
    "        new_row[key] = uat_calculated_results[key]    \n",
    "        \n",
    "    return new_row, uat_sum_all_parties\n"
   ]
  },
  {
   "cell_type": "code",
   "execution_count": 113,
   "metadata": {},
   "outputs": [],
   "source": [
    "def add_row_by_result_type(result_type, data_key, county_name, uat_name, pres_of_uat, results, df):\n",
    "    new_row = {'County':county_name, 'UAT':uat_name, 'TIP': result_type, 'Total': 0}     \n",
    "    new_row, uat_total_sum = get_row_for_category(pres_of_uat, results, data_key, new_row)\n",
    "    new_row['Total'] = uat_total_sum\n",
    "    df = df.append(new_row, ignore_index=True)\n",
    "    return df"
   ]
  },
  {
   "cell_type": "code",
   "execution_count": 114,
   "metadata": {},
   "outputs": [],
   "source": [
    "def get_dataframe_of_county(county_name, uats, locs, pres, results_p, results_cl, results_cj, results_pcj, df):\n",
    "    \n",
    "    for item in uats:\n",
    "        \n",
    "        uat_id = item['id']\n",
    "        uat_name = item['name']\n",
    "        siruta = item['siruta']\n",
    "        #print(uat_name)\n",
    "\n",
    "        locs_of_uat = [loc for loc in locs if loc['uat_id'] == str(uat_id)]\n",
    "        #print(locs_of_uat)\n",
    "\n",
    "        pres_of_uat = [per for per in pres if per['uat_id'] == uat_id]\n",
    "        #print(pres_of_uat)\n",
    "\n",
    "        df = add_row_by_result_type('P', 'party', county_name, uat_name, pres_of_uat, results_p, df)\n",
    "        df = add_row_by_result_type('CL', 'candidate', county_name, uat_name, pres_of_uat, results_cl, df)\n",
    "        df = add_row_by_result_type('CJ', 'candidate', county_name, uat_name, pres_of_uat, results_cj, df)\n",
    "        df = add_row_by_result_type('PCJ', 'party', county_name, uat_name, pres_of_uat, results_pcj, df)\n",
    "        \n",
    "        # result_of_uat = [res for res in results if res['']]\n",
    "        #new_row = {'County':county_name, 'UAT':uat_name, 'TIP': 'P'}     \n",
    "        #new_row = get_row_for_category(pres_of_uat, results_p, 'p_', 'party', new_row)\n",
    "        #df = df.append(new_row, ignore_index=True)\n",
    "        \n",
    "        #new_row = get_row_for_category(pres_of_uat, results_cl, 'cl_', 'candidate', new_row)\n",
    "        #new_row = get_row_for_category(pres_of_uat, results_cj, 'cj_', 'candidate', new_row)\n",
    "        #new_row = get_row_for_category(pres_of_uat, results_pcj, 'pcj_', 'candidate', new_row)\n",
    "\n",
    "\n",
    "        # print(new_row)\n",
    "        # append row to the dataframe\n",
    "        #df = df.append(new_row, ignore_index=True)\n",
    "    return df\n"
   ]
  },
  {
   "cell_type": "code",
   "execution_count": 118,
   "metadata": {},
   "outputs": [],
   "source": [
    "df = pd.DataFrame(columns=['County','UAT'])"
   ]
  },
  {
   "cell_type": "code",
   "execution_count": 116,
   "metadata": {},
   "outputs": [
    {
     "name": "stdout",
     "output_type": "stream",
     "text": [
      "ALBA\n",
      "ARAD\n",
      "ARGEŞ\n",
      "BACĂU\n",
      "BIHOR\n",
      "BISTRIŢA-NĂSĂUD\n",
      "BOTOŞANI\n",
      "BRĂILA\n",
      "BRAŞOV\n",
      "BUZĂU\n",
      "CĂLĂRAŞI\n",
      "CARAŞ-SEVERIN\n",
      "CLUJ\n",
      "CONSTANŢA\n",
      "COVASNA\n",
      "DÂMBOVIŢA\n",
      "DOLJ\n",
      "GALAŢI\n",
      "GIURGIU\n",
      "GORJ\n",
      "HARGHITA\n",
      "HUNEDOARA\n",
      "IALOMIŢA\n",
      "IAŞI\n",
      "ILFOV\n",
      "MARAMUREŞ\n",
      "MEHEDINŢI\n",
      "MUNICIPIUL BUCUREŞTI\n",
      "MUREŞ\n",
      "NEAMŢ\n",
      "OLT\n",
      "PRAHOVA\n",
      "SĂLAJ\n",
      "SATU MARE\n",
      "SIBIU\n",
      "SUCEAVA\n",
      "TELEORMAN\n",
      "TIMIŞ\n",
      "TULCEA\n",
      "VÂLCEA\n",
      "VASLUI\n",
      "VRANCEA\n"
     ]
    }
   ],
   "source": [
    "counties = get_counties()\n",
    "\n",
    "for item in counties:\n",
    "    county_name = item['name']\n",
    "    county_key = item['code'].lower()\n",
    "    print(county_name)\n",
    "    \n",
    "    uats = get_uat_of_county(county_key)\n",
    "    locs = get_commune_of_county(county_key)\n",
    "    pres = get_precinct_of_county(county_key)\n",
    "    results = get_results_of_county(county_key)\n",
    "    results_p = results['stages']['PART']['scopes']['PRCNCT']['categories']['P']['table']\n",
    "    results_cl = results['stages']['PART']['scopes']['PRCNCT']['categories']['CL']['table']\n",
    "    results_cj = results['stages']['PART']['scopes']['PRCNCT']['categories']['CJ']['table']\n",
    "    results_pcj = results['stages']['PART']['scopes']['PRCNCT']['categories']['PCJ']['table']\n",
    "\n",
    "  \n",
    "    df = get_dataframe_of_county(county_name, uats, locs, pres, results_p, results_cl, results_cj, results_pcj, df)"
   ]
  },
  {
   "cell_type": "code",
   "execution_count": 117,
   "metadata": {},
   "outputs": [],
   "source": [
    "df.to_csv('locale2020_provizorii.csv', header=True, index=False, encoding='utf-8-sig')"
   ]
  },
  {
   "cell_type": "code",
   "execution_count": null,
   "metadata": {},
   "outputs": [],
   "source": []
  }
 ],
 "metadata": {
  "kernelspec": {
   "display_name": "Python 3",
   "language": "python",
   "name": "python3"
  },
  "language_info": {
   "codemirror_mode": {
    "name": "ipython",
    "version": 3
   },
   "file_extension": ".py",
   "mimetype": "text/x-python",
   "name": "python",
   "nbconvert_exporter": "python",
   "pygments_lexer": "ipython3",
   "version": "3.7.5"
  }
 },
 "nbformat": 4,
 "nbformat_minor": 2
}
